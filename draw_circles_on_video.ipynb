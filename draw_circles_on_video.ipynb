{
 "cells": [
  {
   "cell_type": "code",
   "execution_count": 3,
   "metadata": {},
   "outputs": [],
   "source": [
    "import cv2\n",
    "  \n",
    "center = (0,0)  \n",
    "clicked = False\n",
    "\n",
    "# Mouse callbak function\n",
    "def draw_circle(event, x, y, flags, param):\n",
    "    \n",
    "    global center,clicked\n",
    "    \n",
    "    # Catch mouse clic on down and track center\n",
    "    if event == cv2.EVENT_LBUTTONDOWN:\n",
    "        center = (x,y)\n",
    "        clicked = False\n",
    "    \n",
    "    if event == cv2.EVENT_LBUTTONUP:\n",
    "        clicked = True\n",
    "    \n",
    "    \n",
    "# Capture Video\n",
    "cap = cv2.VideoCapture(0)\n",
    "\n",
    "# Create a named window for connections\n",
    "cv2.namedWindow('Test')\n",
    "\n",
    "# Bind draw_circle fucntion to mouse clicks\n",
    "cv2.setMouseCallback('Test',draw_circle)\n",
    "\n",
    "while True:\n",
    "    \n",
    "    # Capture frame-by-frame\n",
    "    ret,frame = cap.read()\n",
    "    \n",
    "    # Use if statement if clicked is True\n",
    "    if clicked:\n",
    "        cv2.circle(frame,center=center,radius=50,color=(255,0,0),thickness=5)\n",
    "    \n",
    "    # Display the resulting frame\n",
    "    cv2.imshow('Test',frame)\n",
    "    \n",
    "    if cv2.waitKey(1) & 0xFF == ord('q'):\n",
    "        break\n",
    "\n",
    "        \n",
    "cap.release()\n",
    "cv2.destroyAllWindows()"
   ]
  },
  {
   "cell_type": "code",
   "execution_count": null,
   "metadata": {},
   "outputs": [],
   "source": []
  },
  {
   "cell_type": "code",
   "execution_count": null,
   "metadata": {},
   "outputs": [],
   "source": []
  }
 ],
 "metadata": {
  "kernelspec": {
   "display_name": "Python 3",
   "language": "python",
   "name": "python3"
  },
  "language_info": {
   "codemirror_mode": {
    "name": "ipython",
    "version": 3
   },
   "file_extension": ".py",
   "mimetype": "text/x-python",
   "name": "python",
   "nbconvert_exporter": "python",
   "pygments_lexer": "ipython3",
   "version": "3.6.6"
  }
 },
 "nbformat": 4,
 "nbformat_minor": 2
}
